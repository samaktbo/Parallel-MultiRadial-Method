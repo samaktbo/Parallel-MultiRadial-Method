{
 "cells": [
  {
   "cell_type": "code",
   "execution_count": null,
   "id": "7a6bf633",
   "metadata": {},
   "outputs": [],
   "source": [
    "# using Pkg\n",
    "# Pkg.activate(\"../../Radial Duality/MultiCenterProject/MCRD_env\")"
   ]
  },
  {
   "cell_type": "code",
   "execution_count": null,
   "id": "f70cf904",
   "metadata": {},
   "outputs": [],
   "source": [
    "using LinearAlgebra\n",
    "using Random, Distributions\n",
    "using Printf\n",
    "using Plots\n",
    "using LaTeXStrings\n",
    "Random.seed!(1234567) # Setting the seed"
   ]
  },
  {
   "cell_type": "code",
   "execution_count": null,
   "id": "3fa387ae",
   "metadata": {},
   "outputs": [],
   "source": [
    "# import MRM module\n",
    "include(\"MRMs.jl\")"
   ]
  },
  {
   "cell_type": "code",
   "execution_count": null,
   "id": "07baf7ee",
   "metadata": {},
   "outputs": [],
   "source": [
    "using JuMP\n",
    "using MosekTools\n",
    "using MathOptInterface"
   ]
  },
  {
   "cell_type": "code",
   "execution_count": null,
   "id": "8789516e",
   "metadata": {},
   "outputs": [],
   "source": [
    "function solveQCQPWithMosek(Ps, qs, rs, m, n)\n",
    "    model = Model(Mosek.Optimizer)\n",
    "    set_attribute(model, \"QUIET\", true)\n",
    "    set_attribute(model, \"INTPNT_CO_TOL_DFEAS\", 1e-10)\n",
    "\n",
    "    @variable(model, xvar[1:n]);\n",
    "\n",
    "    for j in 2:m+1\n",
    "        @constraint(model, rs[j] - qs[j]'*xvar - 0.5*xvar'*Ps[j]*xvar >= 0);\n",
    "    end\n",
    "\n",
    "    @objective(model, Max, rs[1] - qs[1]'*xvar - 0.5*xvar'*Ps[1]*xvar)\n",
    "    optimize!(model)\n",
    "\n",
    "    mosek_sol = JuMP.value.(xvar)\n",
    "    mosek_obj_value = JuMP.objective_value(model)\n",
    "    status = JuMP.termination_status(model)\n",
    "    return mosek_sol, mosek_obj_value, status\n",
    "end\n",
    "\n",
    "# gauges for mosek solution\n",
    "function getFeasVal(sol, qcqp, m)\n",
    "    gauge_vals = Vector{Float64}(undef, m);\n",
    "    for i in 1:m gauge_vals[i] = qcqp.identifiers[i](sol, false)[1] end;\n",
    "    feasibility = maximum(gauge_vals)\n",
    "    return feasibility\n",
    "end;"
   ]
  },
  {
   "cell_type": "code",
   "execution_count": null,
   "id": "81591561",
   "metadata": {},
   "outputs": [],
   "source": []
  },
  {
   "cell_type": "code",
   "execution_count": null,
   "id": "aae2abee",
   "metadata": {},
   "outputs": [],
   "source": [
    "function quadratic(x, P, q, r)\n",
    "    return r - q'*x - 0.5*x'*P*x\n",
    "end\n",
    "function getCentersAndRvals(m,numRvals,lower,upper,mats,vecs,cons,center_vecs,samp_mats,samp_rhos,samp_norms)\n",
    "    Ps, qs, rs, best_centers = mats[m], vecs[m], cons[m], center_vecs[m]\n",
    "    As, rhos, norms_of_Ps = samp_mats[m], samp_rhos[m], samp_norms[m]\n",
    "    int_length = upper - lower\n",
    "    \n",
    "    # pre-allocations\n",
    "    r_vals = Vector{Float64}(undef, numRvals)\n",
    "    centers = Array{Float64}(undef, numRvals, m+1, n)\n",
    "    all_rvals = Vector{Float64}(undef, m+1)\n",
    "    for i = 1:numRvals\n",
    "        u = int_length*rand(Uniform(0, 1)) + lower\n",
    "        alpha_step = exp10(u)\n",
    "        for j = 1:m+1\n",
    "            bdry_point = MRM.sampleFromHilbertBallBoundary(As[j], best_centers[j], rhos[j], n)\n",
    "            centers[i, j, :] = MRM.getNewCenter(bdry_point, Ps[j], norms_of_Ps[j], qs[j], alpha_step)\n",
    "            all_rvals[j] = alpha_step * norm(Ps[j]*bdry_point + qs[j]) / norms_of_Ps[j]\n",
    "            \n",
    "            # checks\n",
    "            val1 = quadratic(bdry_point, Ps[j], qs[j], rs[j])\n",
    "            if abs(val1) >= tol\n",
    "                @printf(\"Boundary point for quadratic %d has function value %.9f. \\n\", j, val1)\n",
    "            end\n",
    "            val2 = quadratic(centers[i, j, :], Ps[j], qs[j], rs[j])\n",
    "            if val2 <= tol\n",
    "                @printf(\"New center for quadratic %d has function value %.9f. \\n\", j, val2)\n",
    "            end\n",
    "        end\n",
    "        r_vals[i] = minimum(all_rvals)\n",
    "    end\n",
    "    return centers, r_vals\n",
    "end\n",
    "\n",
    "function getGaps(fom_iter_pair, m, samp_centers, dict_r_vals, x0, tau0s, mosek_vals)\n",
    "    centers, numRvals = samp_centers[m], length(dict_r_vals[m])\n",
    "    tau0 = tau0s[m]\n",
    "    mosek_opt = mosek_vals[m]\n",
    "    fom, tot_iter = fom_iter_pair\n",
    "    instance_constructor = MRM.makeQCQP_sqGauges\n",
    "    if fom == MRM.subgradientMethod\n",
    "        instance_constructor = MRM.makeQCQP\n",
    "    end\n",
    "    # preallocations\n",
    "    gaps = Vector{Float64}(undef, numRvals)\n",
    "    # solve problem for all values of R\n",
    "    for i=1:numRvals\n",
    "        current_centers = Array{Vector{Float64}}(undef, m+1)\n",
    "        for j = 1:m+1\n",
    "            current_centers[j] = centers[i, j, :]\n",
    "        end\n",
    "        inst = instance_constructor(mats[m], vecs[m], cons[m], current_centers, m, n, tol)\n",
    "        # solve the problem \n",
    "        sol,_,_,_,_ = MRM.parallelMRM(fom,inst,(x0,tau0),tot_iter,b=b,N=N,tol=tol,rho_tilde=rho_tilde,tot_time=tot_time)\n",
    "        val = 1 / sol.tau\n",
    "        gaps[i] = mosek_opt - val\n",
    "        if i % 50 == 0\n",
    "            @printf(\"Solution value is %.6f for r-value number %d. \\n\", val, i)\n",
    "            @printf(\"Gap to mosek val is %.6f. \\n\", gaps[i])\n",
    "        end\n",
    "    end\n",
    "    return gaps\n",
    "end;"
   ]
  },
  {
   "cell_type": "code",
   "execution_count": null,
   "id": "a4e47eca",
   "metadata": {},
   "outputs": [],
   "source": []
  },
  {
   "cell_type": "code",
   "execution_count": null,
   "id": "313787e4",
   "metadata": {},
   "outputs": [],
   "source": [
    "# problem params\n",
    "tol = 10^(-9)\n",
    "n = 200\n",
    "lambda = 0.1\n",
    "nu = 0.1\n",
    "sigma = 10.0\n",
    "x_sl = zeros(n)\n",
    "x0 = x_sl;"
   ]
  },
  {
   "cell_type": "code",
   "execution_count": null,
   "id": "f3e45a47",
   "metadata": {},
   "outputs": [],
   "source": [
    "# pre-allocate dictionaries for storing values\n",
    "m_vals = [10, 100, 1000]\n",
    "K = length(m_vals)\n",
    "mats = Dict{Int64, Array{Matrix{Float64}}}()\n",
    "vecs = Dict{Int64, Array{Vector{Float64}}}()\n",
    "cons = Dict{Int64, Array{Float64}}()\n",
    "center_vecs = Dict{Int64, Array{Vector{Float64}}}()\n",
    "f_x0s = Dict{Int64, Float64}()\n",
    "tau0s = Dict{Int64, Float64}()\n",
    "\n",
    "# sampling parameters\n",
    "samp_mats = Dict{Int64, Array{Matrix{Float64}}}()\n",
    "samp_rhos = Dict{Int64, Vector{Float64}}()\n",
    "samp_norms = Dict{Int64, Vector{Float64}}()\n",
    "\n",
    "# dictionary for centers and their R values\n",
    "dict_r_vals = Dict{Int64, Vector{Float64}}()\n",
    "samp_centers = Dict{Int64, Array{Float64}}()\n",
    "\n",
    "\n",
    "# mosek stuff\n",
    "mosek_sols = Dict{Int64, Vector{Float64}}()\n",
    "mosek_vals = Dict{Int64, Float64}()\n",
    "\n",
    "# dictionaries for each method\n",
    "sub_gaps = Dict{Int64, Vector{Float64}}()\n",
    "smooth_gaps = Dict{Int64, Vector{Float64}}()\n",
    "genGrad_gaps = Dict{Int64, Vector{Float64}}();"
   ]
  },
  {
   "cell_type": "code",
   "execution_count": null,
   "id": "cbe7ec8d",
   "metadata": {},
   "outputs": [],
   "source": [
    "for k = 1:K\n",
    "    m = m_vals[k]\n",
    "    mats[m], vecs[m], cons[m], center_vecs[m] = MRM.sampleQCQP(n, m, lambda, sigma, nu)\n",
    "    f_x0s[m] = quadratic(x0, mats[m][1], vecs[m][1], cons[m][1])\n",
    "    tau0s[m] = 1 / f_x0s[m]\n",
    "    # get sampling parameters\n",
    "    samp_mats[m],samp_rhos[m],samp_norms[m] = MRM.getSamplingParameters(mats[m],vecs[m],cons[m],center_vecs[m])\n",
    "end"
   ]
  },
  {
   "cell_type": "code",
   "execution_count": null,
   "id": "456d057d",
   "metadata": {},
   "outputs": [],
   "source": [
    "# solve with Mosek\n",
    "for k = 1:K\n",
    "    m = m_vals[k]\n",
    "    mosek_sols[m], mosek_vals[m], _ = solveQCQPWithMosek(mats[m], vecs[m], cons[m], m, n)\n",
    "end"
   ]
  },
  {
   "cell_type": "code",
   "execution_count": null,
   "id": "ec69c070",
   "metadata": {},
   "outputs": [],
   "source": []
  },
  {
   "cell_type": "code",
   "execution_count": null,
   "id": "909a3aa9",
   "metadata": {},
   "outputs": [],
   "source": [
    "# parallel MRM parameters\n",
    "N = 16\n",
    "T_vals = [1, 1, 1]#[500, 100, 50]\n",
    "rho_tilde = 1.0\n",
    "tot_time = 90.0\n",
    "b = 4.0;"
   ]
  },
  {
   "cell_type": "code",
   "execution_count": null,
   "id": "f0cbe5c8",
   "metadata": {},
   "outputs": [],
   "source": [
    "# experiment params\n",
    "numRvals = 3#00\n",
    "lower = -5.0\n",
    "upper = 0.0;"
   ]
  },
  {
   "cell_type": "code",
   "execution_count": null,
   "id": "45b00dee",
   "metadata": {},
   "outputs": [],
   "source": [
    "for k = 1:K\n",
    "    m = m_vals[k]\n",
    "    samp_centers[m],dict_r_vals[m] = getCentersAndRvals(m,numRvals,lower,upper,mats,vecs,cons,center_vecs,samp_mats,samp_rhos,samp_norms)\n",
    "end"
   ]
  },
  {
   "cell_type": "code",
   "execution_count": null,
   "id": "074d246c",
   "metadata": {},
   "outputs": [],
   "source": [
    "# test if centers are indeed different\n",
    "# for k=1:K\n",
    "#     m = m_vals[k]\n",
    "#     @printf(\"Printing values for m = %d \\n\", m)\n",
    "#     for j = 1:m+1\n",
    "#         vals = zeros(numRvals)\n",
    "#         for i=1:numRvals\n",
    "#             vals[i] = quadratic(samp_centers[m][i, j, :], mats[m][j], vecs[m][j], cons[m][j])\n",
    "#         end\n",
    "#         small = minimum(vals)\n",
    "#         big = maximum(vals)\n",
    "#         s_dev = std(vals)\n",
    "#         mean_val = mean(vals)\n",
    "#         @printf(\"Stats for j = %d are %.4f, %.4f, %.4f, %.4f  \\n\", j, small, mean_val, big, s_dev)\n",
    "#     end\n",
    "#     break\n",
    "# end"
   ]
  },
  {
   "cell_type": "code",
   "execution_count": null,
   "id": "f01ce720",
   "metadata": {},
   "outputs": [],
   "source": [
    "for k = 1:K\n",
    "    m = m_vals[k]\n",
    "    sub_pair = (MRM.subgradientMethod, T_vals[k])\n",
    "    time_now = time()\n",
    "    sub_gaps[m] = getGaps(sub_pair, m, samp_centers, dict_r_vals, x0, tau0s, mosek_vals)\n",
    "    tot_sub_time = (time() - time_now) / 60;\n",
    "    @printf(\"The total time for subgrad is %.4f minutes for m = %d. \\n\", tot_sub_time, m)\n",
    "end"
   ]
  },
  {
   "cell_type": "code",
   "execution_count": null,
   "id": "cf5c711c",
   "metadata": {},
   "outputs": [],
   "source": [
    "for k = 1:K\n",
    "    m = m_vals[k]\n",
    "    smooth_pair = (MRM.fastSmoothingMethod, T_vals[k])\n",
    "    time_now = time()\n",
    "    smooth_gaps[m] = getGaps(smooth_pair, m, samp_centers, dict_r_vals, x0, tau0s, mosek_vals)\n",
    "    tot_sm_time = (time() - time_now) / 60;\n",
    "    @printf(\"The total time for smooth is %.4f minutes for m = %d. \\n\", tot_sm_time, m)\n",
    "end"
   ]
  },
  {
   "cell_type": "code",
   "execution_count": null,
   "id": "2bd7686b",
   "metadata": {},
   "outputs": [],
   "source": [
    "for k = 1:2\n",
    "    m = m_vals[k]\n",
    "    genGrad_pair = (MRM.fastGenGradMethod, T_vals[k])\n",
    "    time_now = time()\n",
    "    genGrad_gaps[m] = getGaps(genGrad_pair, m, samp_centers, dict_r_vals, x0, tau0s, mosek_vals)\n",
    "    tot_gen_time = (time() - time_now) / 60\n",
    "    @printf(\"The total time for gengrad is %.4f minutes for m = %d. \\n\", tot_gen_time, m)\n",
    "end"
   ]
  },
  {
   "cell_type": "markdown",
   "id": "61fe97c5",
   "metadata": {},
   "source": [
    "### Plots"
   ]
  },
  {
   "cell_type": "code",
   "execution_count": null,
   "id": "64aaed00",
   "metadata": {},
   "outputs": [],
   "source": [
    "p = scatter()\n",
    "fs = 14\n",
    "ms = 3.5\n",
    "for k = 1:3\n",
    "    m = m_vals[k]\n",
    "    init_gap = mosek_vals[m] - f_x0s[m]\n",
    "    x = [1 / r for r in dict_r_vals[m]]\n",
    "    yticks = [10.0^(-10+j) for j=1:10]\n",
    "    p = scatter(x,sub_gaps[m]/init_gap, marker=(ms), xaxis=:log, yaxis=:log, legend=false)\n",
    "    scatter!(x, smooth_gaps[m]/init_gap, xaxis=:log, yaxis=:log, marker=(ms), legend=false)\n",
    "    if k < 3\n",
    "        scatter!(x, genGrad_gaps[m]/init_gap, xaxis=:log, yaxis=:log, marker=(ms), legend=false)\n",
    "    end\n",
    "    ylims = ylims=(10.0^(-9), 1)\n",
    "    yticks = [10.0^(-9+j) for j=1:9]\n",
    "    yaxis!(yticks=yticks, ylims=ylims)\n",
    "    xaxis!(\"Lipschitz constant 1 / R\", xticks=[10^j for j=2:6])\n",
    "    plot!(xtickfontsize=fs-2, ytickfontsize=fs-2)\n",
    "    plot!(guidefontsize=fs, legendfontsize=fs)\n",
    "    yaxis!(\"Relative Objective Gap\")\n",
    "    #savefig(\"../Plots/many_R_vals_m=$(m).pdf\")\n",
    "end\n",
    "plot(p)"
   ]
  },
  {
   "cell_type": "code",
   "execution_count": null,
   "id": "e4bd7eab",
   "metadata": {},
   "outputs": [],
   "source": []
  },
  {
   "cell_type": "code",
   "execution_count": null,
   "id": "4c942ff0",
   "metadata": {},
   "outputs": [],
   "source": []
  }
 ],
 "metadata": {
  "kernelspec": {
   "display_name": "Julia 1.8.5",
   "language": "julia",
   "name": "julia-1.8"
  },
  "language_info": {
   "file_extension": ".jl",
   "mimetype": "application/julia",
   "name": "julia",
   "version": "1.8.5"
  }
 },
 "nbformat": 4,
 "nbformat_minor": 5
}
