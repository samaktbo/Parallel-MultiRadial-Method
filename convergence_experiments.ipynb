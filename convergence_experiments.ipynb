{
 "cells": [
  {
   "cell_type": "code",
   "execution_count": null,
   "id": "159a8d94",
   "metadata": {},
   "outputs": [],
   "source": [
    "# using Pkg\n",
    "# Pkg.activate(\"../../Radial Duality/MultiCenterProject/MCRD_env\")"
   ]
  },
  {
   "cell_type": "code",
   "execution_count": null,
   "id": "317f9858",
   "metadata": {},
   "outputs": [],
   "source": [
    "using LinearAlgebra\n",
    "using Random, Distributions\n",
    "using Printf\n",
    "using Plots\n",
    "using LaTeXStrings\n",
    "Random.seed!(1234567) # Setting the seed"
   ]
  },
  {
   "cell_type": "code",
   "execution_count": null,
   "id": "a55a7a2a",
   "metadata": {},
   "outputs": [],
   "source": [
    "# import MRM module\n",
    "include(\"MRMs.jl\")"
   ]
  },
  {
   "cell_type": "code",
   "execution_count": null,
   "id": "7ee85dd6",
   "metadata": {},
   "outputs": [],
   "source": []
  },
  {
   "cell_type": "code",
   "execution_count": null,
   "id": "fdd133c2",
   "metadata": {},
   "outputs": [],
   "source": [
    "using JuMP\n",
    "using MosekTools\n",
    "using MathOptInterface"
   ]
  },
  {
   "cell_type": "code",
   "execution_count": null,
   "id": "18284532",
   "metadata": {},
   "outputs": [],
   "source": [
    "function solveQCQPWithMosek(Ps, qs, rs, m, n)\n",
    "    model = Model(Mosek.Optimizer)\n",
    "    set_attribute(model, \"QUIET\", true)\n",
    "    set_attribute(model, \"INTPNT_CO_TOL_DFEAS\", 1e-10)\n",
    "\n",
    "    @variable(model, xvar[1:n]);\n",
    "\n",
    "    for j in 2:m+1\n",
    "        @constraint(model, rs[j] - qs[j]'*xvar - 0.5*xvar'*Ps[j]*xvar >= 0);\n",
    "    end\n",
    "\n",
    "    @objective(model, Max, rs[1] - qs[1]'*xvar - 0.5*xvar'*Ps[1]*xvar)\n",
    "    optimize!(model)\n",
    "\n",
    "    mosek_sol = JuMP.value.(xvar)\n",
    "    mosek_obj_value = JuMP.objective_value(model)\n",
    "    status = JuMP.termination_status(model)\n",
    "    return mosek_sol, mosek_obj_value, status\n",
    "end\n",
    "\n",
    "# gauges for mosek solution\n",
    "function getFeasVal(sol, qcqp, m)\n",
    "    gauge_vals = Vector{Float64}(undef, m);\n",
    "    for i in 1:m gauge_vals[i] = qcqp.identifiers[i](sol, false)[1] end;\n",
    "    feasibility = maximum(gauge_vals)\n",
    "    return feasibility\n",
    "end;"
   ]
  },
  {
   "cell_type": "code",
   "execution_count": null,
   "id": "64b6249e",
   "metadata": {},
   "outputs": [],
   "source": [
    "function quadratic(x, P, q, r)\n",
    "    return r - q'*x - 0.5*x'*P*x\n",
    "end"
   ]
  },
  {
   "cell_type": "markdown",
   "id": "fd6d4984",
   "metadata": {},
   "source": [
    "### Run time experiment"
   ]
  },
  {
   "cell_type": "code",
   "execution_count": null,
   "id": "da8201cc",
   "metadata": {},
   "outputs": [],
   "source": [
    "# problem params\n",
    "tol = 10^(-9)\n",
    "n = 200\n",
    "lambda = 0.01\n",
    "nu = 0.1\n",
    "sigma = 10.0\n",
    "x_sl = zeros(n)\n",
    "x0 = x_sl;"
   ]
  },
  {
   "cell_type": "code",
   "execution_count": null,
   "id": "82453628",
   "metadata": {},
   "outputs": [],
   "source": [
    "# pre-allocate dictionaries for storing values\n",
    "m_vals = [10, 100, 1000]\n",
    "K = length(m_vals)\n",
    "mats = Dict{Int64, Array{Matrix{Float64}}}()\n",
    "vecs = Dict{Int64, Array{Vector{Float64}}}()\n",
    "cons = Dict{Int64, Array{Float64}}()\n",
    "center_vecs = Dict{Int64, Array{Vector{Float64}}}()\n",
    "f_x0s = Dict{Int64, Float64}()\n",
    "tau0s = Dict{Int64, Float64}()\n",
    "\n",
    "# radial set-up objects\n",
    "params = Dict{Int64, Vector{MRM.quadFormConsGaugeParams}}()\n",
    "\n",
    "\n",
    "# mosek stuff\n",
    "mosek_sols = Dict{Int64, Vector{Float64}}()\n",
    "mosek_vals = Dict{Int64, Float64}()\n",
    "\n",
    "# dictionaries for each method\n",
    "subgrad_ret = Dict{Int64, Dict}()\n",
    "smooth_ret = Dict{Int64, Dict}()\n",
    "genGrad_ret = Dict{Int64, Dict}();"
   ]
  },
  {
   "cell_type": "code",
   "execution_count": null,
   "id": "bf4f8ec8",
   "metadata": {},
   "outputs": [],
   "source": [
    "for k = 1:K\n",
    "    m = m_vals[k]\n",
    "    Ps, qs, rs, best_centers = MRM.sampleQCQP(n, m, lambda, sigma, nu)\n",
    "    mats[m], vecs[m], cons[m], center_vecs[m] = Ps, qs, rs, best_centers\n",
    "    f_x0 = quadratic(x0, Ps[1], qs[1], rs[1])\n",
    "    f_x0s[m] = f_x0\n",
    "    tau0s[m] = 1 / f_x0\n",
    "    rad_params = Vector{MRM.quadFormConsGaugeParams}(undef, m+1)\n",
    "    for j=1:m+1\n",
    "        rad_params[j] = MRM.quadFormConsGaugeParamsInitializer(Ps[j], qs[j], rs[j], best_centers[j])\n",
    "    end\n",
    "    params[m] = rad_params\n",
    "end"
   ]
  },
  {
   "cell_type": "code",
   "execution_count": null,
   "id": "3aca4102",
   "metadata": {},
   "outputs": [],
   "source": [
    "# solve with Mosek\n",
    "for k = 1:K\n",
    "    m = m_vals[k]\n",
    "    Ps, qs, rs, best_centers = mats[m], vecs[m], cons[m], center_vecs[m]\n",
    "    mosek_sols[m], mosek_vals[m], _ = solveQCQPWithMosek(Ps, qs, rs, m, n)\n",
    "end"
   ]
  },
  {
   "cell_type": "code",
   "execution_count": null,
   "id": "b268984d",
   "metadata": {},
   "outputs": [],
   "source": [
    "# parallel MRM parameters\n",
    "N = 16\n",
    "T_vals = [500, 400, 100]\n",
    "rho_tilde = 1.0\n",
    "tot_time = 3000.0\n",
    "b = 4.0;"
   ]
  },
  {
   "cell_type": "code",
   "execution_count": null,
   "id": "28aac507",
   "metadata": {},
   "outputs": [],
   "source": []
  },
  {
   "cell_type": "code",
   "execution_count": null,
   "id": "55c0099a",
   "metadata": {},
   "outputs": [],
   "source": [
    "function getFomValues(fom_iter_pair, rho_tilde, m, mats, vecs, cons, params)\n",
    "    fom, T = fom_iter_pair\n",
    "    Ps, qs, rs = mats[m], vecs[m], cons[m]\n",
    "    identifier_oracle = MRM.quadFormConsHuberGaugeOracle\n",
    "    if fom == MRM.subgradientMethod\n",
    "        identifier_oracle = MRM.quadFormConsGaugeOracle\n",
    "    elseif fom == MRM.fastGenGradMethod\n",
    "        identifier_oracle = MRM.quadFormConsGaugeSquareOracle\n",
    "    end\n",
    "    inst = MRM.instanceConstructor(Ps[1], qs[1], rs[1], params[m], identifier_oracle, tol)\n",
    "    ret = Dict{String, Array{Float64}}()\n",
    "    tau0 = tau0s[m]\n",
    "    mrm_ret = MRM.parallelMRM(fom,inst,(x0,tau0),T,b=b,N=N,tol=tol,rho_tilde=rho_tilde,tot_time=tot_time)\n",
    "    ret[\"sols\"] = mrm_ret[1].iterate\n",
    "    ret[\"vals\"] = mrm_ret[2]\n",
    "    ret[\"process_vals\"] = mrm_ret[3]\n",
    "    ret[\"process_times\"] = mrm_ret[5]\n",
    "    \n",
    "    return ret\n",
    "end"
   ]
  },
  {
   "cell_type": "code",
   "execution_count": null,
   "id": "d3447a2f",
   "metadata": {},
   "outputs": [],
   "source": [
    "for k = 1:K\n",
    "    m = m_vals[k]\n",
    "    time_now = time()\n",
    "    subgrad_pair = (MRM.subgradientMethod, 100*T_vals[k])\n",
    "    subgrad_ret[m] = getFomValues(subgrad_pair, rho_tilde, m, mats, vecs, cons, params)\n",
    "    time_sub = (time() - time_now) / 60\n",
    "    @printf(\"The total time for subgrad is %.4f minutes. \\n\", time_sub)\n",
    "end"
   ]
  },
  {
   "cell_type": "code",
   "execution_count": null,
   "id": "f9d398c6",
   "metadata": {},
   "outputs": [],
   "source": [
    "using HDF5, JLD"
   ]
  },
  {
   "cell_type": "code",
   "execution_count": null,
   "id": "89b6837d",
   "metadata": {},
   "outputs": [],
   "source": [
    "save(\"../Plots and Data/subgrad_ret_data.jld\", \"data\", subgrad_ret)"
   ]
  },
  {
   "cell_type": "code",
   "execution_count": null,
   "id": "66ab24fb",
   "metadata": {},
   "outputs": [],
   "source": [
    "for k = 1:K\n",
    "    m = m_vals[k]\n",
    "    time_now = time()\n",
    "    smooth_pair = (MRM.fastSmoothingMethod, 100*T_vals[k])\n",
    "    smooth_ret[m] = getFomValues(smooth_pair, rho_tilde, m, mats, vecs, cons, params)\n",
    "    time_smooth = (time() - time_now) / 60\n",
    "    @printf(\"The total time for smooth is %.4f minutes. \\n\", time_smooth)\n",
    "end"
   ]
  },
  {
   "cell_type": "code",
   "execution_count": null,
   "id": "330fb8c0",
   "metadata": {},
   "outputs": [],
   "source": [
    "save(\"../Plots and Data/smooth_ret_data.jld\", \"data\", smooth_ret)"
   ]
  },
  {
   "cell_type": "code",
   "execution_count": null,
   "id": "ac11213b",
   "metadata": {},
   "outputs": [],
   "source": [
    "for k = 1:K\n",
    "    m = m_vals[k]\n",
    "    time_now = time()\n",
    "    genGrad_pair = (MRM.fastGenGradMethod, 4*T_vals[k])\n",
    "    genGrad_ret[m] = getFomValues(genGrad_pair, rho_tilde, m, mats, vecs, cons, params)\n",
    "    time_gen = (time() - time_now) / 60\n",
    "    @printf(\"The total time for gengrad is %.4f minutes. \\n\", time_gen)\n",
    "end"
   ]
  },
  {
   "cell_type": "code",
   "execution_count": null,
   "id": "c295bc43",
   "metadata": {},
   "outputs": [],
   "source": [
    "save(\"../Plots and Data/genGrad_ret_data.jld\", \"data\", genGrad_ret)"
   ]
  },
  {
   "cell_type": "markdown",
   "id": "b26bc311",
   "metadata": {},
   "source": [
    "### Plots"
   ]
  },
  {
   "cell_type": "code",
   "execution_count": null,
   "id": "f98342a9",
   "metadata": {},
   "outputs": [],
   "source": [
    "labels = [latexstring(\"\\$\\\\mathtt{subgrad}\\$\"), \n",
    "          latexstring(\"\\$\\\\mathtt{smooth}\\$\"), \n",
    "          latexstring(\"\\$\\\\mathtt{genGrad}\\$\")];"
   ]
  },
  {
   "cell_type": "code",
   "execution_count": null,
   "id": "a6b15580",
   "metadata": {
    "scrolled": true
   },
   "outputs": [],
   "source": [
    "# make iterations plot Data\n",
    "function makeIterPlotData(m, mosek_vals, fom_ret, key=\"vals\")\n",
    "    mosek_val = mosek_vals[m]\n",
    "    best_seen = fom_ret[m][key]\n",
    "    if key == \"vals\"\n",
    "        init_gap = mosek_val - best_seen[1]\n",
    "    elseif key == \"process_vals\"\n",
    "        init_gap = mosek_val - best_seen[1,1]\n",
    "    end\n",
    "    gaps = mosek_val .- best_seen\n",
    "    y = gaps / init_gap\n",
    "    return y\n",
    "end\n",
    "\n",
    "# make time plot data\n",
    "function makeTimePlotData(m, mosek_vals, fom_ret)\n",
    "    mosek_val = mosek_vals[m]\n",
    "    best_seen, times = fom_ret[m][\"vals\"], fom_ret[m][\"process_times\"]\n",
    "    xbest = cumsum(sum(times, dims=1), dims=2)[1, :]\n",
    "    gaps = mosek_val .- best_seen\n",
    "    init_gap = gaps[1]\n",
    "    ybest = gaps / init_gap\n",
    "    return xbest, ybest\n",
    "end"
   ]
  },
  {
   "cell_type": "code",
   "execution_count": null,
   "id": "c6943ef4",
   "metadata": {},
   "outputs": [],
   "source": []
  },
  {
   "cell_type": "code",
   "execution_count": null,
   "id": "2bf71720",
   "metadata": {},
   "outputs": [],
   "source": [
    "# make iteration plots\n",
    "# initialize plot\n",
    "p = plot()\n",
    "k1= 1\n",
    "k2= K\n",
    "lw = 2\n",
    "fs = 12\n",
    "for k = k1:k2\n",
    "    m = m_vals[k]\n",
    "    x_upper = length(smooth_ret[m][\"vals\"])\n",
    "    y_sub = makeIterPlotData(m, mosek_vals, subgrad_ret, \"vals\")\n",
    "    y_sm = makeIterPlotData(m, mosek_vals, smooth_ret, \"vals\")\n",
    "    y_gen = makeIterPlotData(m, mosek_vals, genGrad_ret, \"vals\")\n",
    "    p = plot(y_sub, linewidth=lw, label=labels[1], xlims=(1, x_upper), legend=:bottomleft)\n",
    "    plot!(y_sm, label=labels[2], linewidth=lw)\n",
    "    plot!(y_gen, label=labels[3], linewidth=lw)\n",
    "    plot!(xaxis=:log, yaxis=:log, xlabel=\"Iterations\", ylabel=\"Relative Objective Gap\")\n",
    "    ylims = ylims=(10.0^(-9), 1)\n",
    "    yticks = [10.0^(-9+j) for j=1:9]\n",
    "    plot!(xticks=[10^j for j=1:4], yticks=yticks, ylims=ylims)\n",
    "    plot!(xtickfontsize=fs-2, ytickfontsize=fs, xformatter=:auto)\n",
    "    plot!(guidefontsize=fs, legendfontsize=fs)\n",
    "    savefig(\"../Plots and Data/accu_vs_iter_m=$(m_vals[k]).pdf\")\n",
    "end\n",
    "plot(p)"
   ]
  },
  {
   "cell_type": "code",
   "execution_count": null,
   "id": "02cf0584",
   "metadata": {},
   "outputs": [],
   "source": [
    "# Make time plots\n",
    "# initialize plot\n",
    "p = plot()\n",
    "k1= 1\n",
    "k2= K\n",
    "lw = 2\n",
    "fs = 14\n",
    "for k = k1:k2\n",
    "    m = m_vals[k]\n",
    "    time_lim = 3*10.0^(k)\n",
    "    x_sub, y_sub = makeTimePlotData(m, mosek_vals, subgrad_ret)\n",
    "    x_sm, y_sm = makeTimePlotData(m, mosek_vals, smooth_ret)\n",
    "    x_gen, y_gen = makeTimePlotData(m, mosek_vals, genGrad_ret)\n",
    "    xlims=(tol, time_lim)\n",
    "    p = plot(x_sub, y_sub, label=labels[1], lw=2, yaxis=:log, xlims=xlims,legend=:right)\n",
    "    plot!(x_sm, y_sm, label=labels[2], lw=2)\n",
    "    plot!(x_gen, y_gen, label=labels[3], lw=2)\n",
    "    plot!(ylabel=\"Relative Objective Gap\", xlabel=\"Time (s)\")\n",
    "    ylims = ylims=(10.0^(-9), 1)\n",
    "    yticks = [10.0^(-9+j) for j=1:9]\n",
    "    xticks = [5*10^(k-1)*j for j=1:5]\n",
    "    plot!(xticks=xticks, yticks=yticks, ylims=ylims)\n",
    "    plot!(xtickfontsize=fs-2, ytickfontsize=fs-2, xformatter=:auto)\n",
    "    plot!(guidefontsize=fs, legendfontsize=fs)\n",
    "    savefig(\"../Plots and Data/accu_vs_time_m=$(m_vals[k]).pdf\")\n",
    "end\n",
    "plot(p)"
   ]
  },
  {
   "cell_type": "code",
   "execution_count": null,
   "id": "71ef6e29",
   "metadata": {},
   "outputs": [],
   "source": []
  },
  {
   "cell_type": "code",
   "execution_count": null,
   "id": "69854889",
   "metadata": {},
   "outputs": [],
   "source": [
    "# subgrad_ret = load(\"../Plots and Data/subgrad_ret_data.jld\")[\"data\"]\n",
    "# smooth_ret = load(\"../Plots and Data/smooth_ret_data.jld\")[\"data\"]\n",
    "# genGrad_ret = load(\"../Plots and Data/genGrad_ret_data.jld\")[\"data\"]"
   ]
  }
 ],
 "metadata": {
  "kernelspec": {
   "display_name": "Julia 1.8.5",
   "language": "julia",
   "name": "julia-1.8"
  },
  "language_info": {
   "file_extension": ".jl",
   "mimetype": "application/julia",
   "name": "julia",
   "version": "1.8.5"
  },
  "widgets": {
   "application/vnd.jupyter.widget-state+json": {
    "state": {},
    "version_major": 2,
    "version_minor": 0
   }
  }
 },
 "nbformat": 4,
 "nbformat_minor": 5
}
